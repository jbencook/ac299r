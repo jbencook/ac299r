{
 "metadata": {
  "name": ""
 },
 "nbformat": 3,
 "nbformat_minor": 0,
 "worksheets": [
  {
   "cells": [
    {
     "cell_type": "code",
     "collapsed": false,
     "input": [
      "import selenium.webdriver as webdriver\n",
      "import pandas as pd\n",
      "import numpy as np\n",
      "import time"
     ],
     "language": "python",
     "metadata": {},
     "outputs": [],
     "prompt_number": 1
    },
    {
     "cell_type": "markdown",
     "metadata": {},
     "source": [
      "## Read in CSV of stations with soil moisture"
     ]
    },
    {
     "cell_type": "code",
     "collapsed": false,
     "input": [
      "nwcc = pd.read_csv(\"nwcc_inventory.csv\")"
     ],
     "language": "python",
     "metadata": {},
     "outputs": [],
     "prompt_number": 3
    },
    {
     "cell_type": "markdown",
     "metadata": {},
     "source": [
      "## Scraping function with Selenium"
     ]
    },
    {
     "cell_type": "code",
     "collapsed": false,
     "input": [
      "def get_sm(sid):\n",
      "    link = \"http://www.wcc.nrcs.usda.gov/nwcc/site?sitenum=%d\" % sid\n",
      "    try:\n",
      "        chrome.get(link)\n",
      "        sms = chrome.find_element_by_xpath(\"//option[@value='SMS']\")\n",
      "        beg_yr = int(sms.text[sms.text.index(\"(\"):].strip(\"(\").split(\"-\")[0])\n",
      "        \n",
      "        for y in range(beg_yr, 2015):\n",
      "            sms = chrome.find_element_by_xpath(\"//option[@value='SMS']\")\n",
      "            daily = chrome.find_element_by_xpath(\"//option[@value='Daily']\")\n",
      "            try:\n",
      "                yr = chrome.find_element_by_xpath(\"//option[@value='%d']\" % y)\n",
      "                cy = chrome.find_element_by_xpath(\"//option[@value='CY']\")\n",
      "                greenButton = chrome.find_element_by_class_name(\"scanReportButtonGreen\")\n",
      "                \n",
      "                sms.click()\n",
      "                daily.click()\n",
      "                yr.click()\n",
      "                cy.click()\n",
      "                greenButton.click()\n",
      "                \n",
      "                fname = \"html/%d_%d.html\" % (sid, y)\n",
      "                \n",
      "                write_file = open(fname, \"w\")\n",
      "                write_file.write(chrome.page_source)\n",
      "                write_file.close()\n",
      "                \n",
      "                chrome.back()\n",
      "            except:\n",
      "                pass\n",
      "    except:\n",
      "        time.sleep(1)\n",
      "        get_sm(sid)"
     ],
     "language": "python",
     "metadata": {},
     "outputs": [],
     "prompt_number": 3
    },
    {
     "cell_type": "markdown",
     "metadata": {},
     "source": [
      "### Scrape all links"
     ]
    },
    {
     "cell_type": "code",
     "collapsed": false,
     "input": [
      "chrome = webdriver.Chrome()\n",
      "for i in xrange(len(nwcc)):\n",
      "    print i\n",
      "    try:\n",
      "        get_sm(nwcc['station id'].irow(i))\n",
      "    except:\n",
      "        pass"
     ],
     "language": "python",
     "metadata": {},
     "outputs": [
      {
       "output_type": "stream",
       "stream": "stdout",
       "text": [
        "0\n",
        "1"
       ]
      },
      {
       "output_type": "stream",
       "stream": "stdout",
       "text": [
        "\n",
        "2"
       ]
      },
      {
       "output_type": "stream",
       "stream": "stdout",
       "text": [
        "\n",
        "3"
       ]
      },
      {
       "output_type": "stream",
       "stream": "stdout",
       "text": [
        "\n",
        "4"
       ]
      },
      {
       "output_type": "stream",
       "stream": "stdout",
       "text": [
        "\n",
        "5"
       ]
      },
      {
       "output_type": "stream",
       "stream": "stdout",
       "text": [
        "\n",
        "6"
       ]
      }
     ],
     "prompt_number": "*"
    }
   ],
   "metadata": {}
  }
 ]
}